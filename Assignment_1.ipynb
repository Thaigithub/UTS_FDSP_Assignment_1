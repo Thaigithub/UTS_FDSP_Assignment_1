{
 "cells": [
  {
   "cell_type": "markdown",
   "metadata": {},
   "source": [
    "# IMPORT LIBRARY\n"
   ]
  },
  {
   "cell_type": "code",
   "execution_count": 1,
   "metadata": {},
   "outputs": [],
   "source": [
    "import pandas as pd\n",
    "import numpy as np\n",
    "from scipy.stats import norm"
   ]
  },
  {
   "cell_type": "markdown",
   "metadata": {},
   "source": [
    "# Standard normal CDF\n",
    "\n",
    "Write a program in Python that asks a user for a number `x`, and then outputs the value of the cumulative distribution function of the standard normal distribution at `x`.\n",
    "\n",
    "## Example\n",
    "\n",
    "`Enter x: 0.3\n",
    "The value of the standard normal CDF at 0.3 is 0.6179114221889526`\n",
    "\n",
    "**Hint:** You'll want to use the `input(...)` and `print(...)` functions for this. Recall that `input(...)` returns a string, which must be converted to a floating point number using `float(...)`. If we do `from scipy.stats import norm`, then the cumulative distribution function of the standard normal distribution can be accessed as `norm.cdf(...)`.\n"
   ]
  },
  {
   "cell_type": "code",
   "execution_count": 2,
   "metadata": {},
   "outputs": [],
   "source": [
    "def CDF_UI():\n",
    "    x = float(input(\"Enter x:\"))\n",
    "    print(f'The value of the standard normal CDF at {x} is {norm.cdf(x)}')"
   ]
  },
  {
   "cell_type": "code",
   "execution_count": 4,
   "metadata": {},
   "outputs": [
    {
     "name": "stdout",
     "output_type": "stream",
     "text": [
      "The value of the standard normal CDF at 0.3 is 0.6179114221889526\n"
     ]
    }
   ],
   "source": [
    "CDF_UI()"
   ]
  },
  {
   "cell_type": "markdown",
   "metadata": {},
   "source": [
    "# Black/Scholes formula in Python\n",
    "\n",
    "The Black/Scholes price of a European call option expiring at time $T$ with strike price $K$ is\n",
    "\n",
    "$$\n",
    "C(S,t)=SN(d_1)−Ke^{−r(T−t)}N(d_2)\n",
    "$$\n",
    "\n",
    "where $S$ is the current price of the underlying asset, $t$ the current time and $r$ the continuously compounded riskfree interest rate. $N(d)$ denotes the cumulative distribution function of the standard normal distribution, and\n",
    "\n",
    "$$\n",
    "\n",
    "d_1 = \\frac{\\ln\\frac{S}K+(r+\\frac12\\sigma^2)(T−t)}{\\sigma\\sqrt{T-t}}\\\\\n",
    "d_2 = d_1−\\sigma\\sqrt{T-t}\n",
    "\n",
    "\n",
    "$$\n",
    "\n",
    "where the $\\sigma$ denotes the volatility of the underlying asset.\n",
    "\n",
    "Using the scaffold provided, write a Python program which prompts the user for the required inputs, and prints the Black/Scholes price of the option.\n",
    "\n",
    "## Example\n",
    "\n",
    "`Enter the underlying stock price: 100\n",
    "Enter the strike price: 100\n",
    "Enter the volatility: 0.3\n",
    "Enter continuously compounded interest rate: 0.02\n",
    "Enter the time to maturity: 2.5\n",
    "The call option price is: 20.82854108910454`\n"
   ]
  },
  {
   "cell_type": "code",
   "execution_count": 11,
   "metadata": {},
   "outputs": [
    {
     "name": "stdout",
     "output_type": "stream",
     "text": [
      "The call option price is: 20.82854108910454\n"
     ]
    }
   ],
   "source": [
    "import numpy as np\n",
    "from scipy.stats import norm\n",
    "\n",
    "stock = float(input('Enter the underlying stock price: '))\n",
    "strike = float(input('Enter the strike price: '))\n",
    "sigma = float(input('Enter the volatility: '))\n",
    "interest = float(input('Enter continuously compounded interest rate: '))\n",
    "maturity = float(input('Enter the time to maturity: '))\n",
    "\n",
    "d1 = (np.log(stock/strike)+(interest+(sigma**2)/2)*maturity)/(sigma*np.sqrt(maturity))\n",
    "d2 = d1-sigma*np.sqrt(maturity)\n",
    "BlackScholes = stock*norm.cdf(d1) - strike * np.exp(-interest*maturity)*norm.cdf(d2)\n",
    "\n",
    "print('The call option price is: ' + str(BlackScholes))"
   ]
  },
  {
   "cell_type": "markdown",
   "metadata": {},
   "source": [
    "# Black Scholes formula as a Python function\n",
    "\n",
    "As in the previous task, consider the Black/Scholes price of a European call option expiring at time $T$ with strike price $K$. Similarly, the price of a European put option expiring at time $T$ with strike price $K$ is\n",
    "\n",
    "$$\n",
    "P(S,t)=Ke^{−r(T−t)}N(−d_2)−SN(−d_1)\n",
    "$$\n",
    "\n",
    "Using the scaffold provided, write a Python function which calculates the Black/Scholes price of the option, where the function takes six arguments (in this order): $S$, $K$, $\\sigma$, $r$, $T$ and a 1 for a call or -1 for a put.\n",
    "\n",
    "## Example:\n",
    "\n",
    "`Enter the underlying stock price: 100\n",
    "Enter the strike price: 100\n",
    "Enter the volatility: 0.3\n",
    "Enter continuously compounded interest rate: 0.05\n",
    "Enter the time to maturity: 2\n",
    "Enter 1 for call or -1 for put option: 1\n",
    "The option price is: 21.193735255280203`\n",
    "\n",
    "## Another example (a put option):\n",
    "\n",
    "`Enter the underlying stock price: 100\n",
    "Enter the strike price: 100\n",
    "Enter the volatility: 0.3\n",
    "Enter continuously compounded interest rate: 0.05\n",
    "Enter the time to maturity: 2\n",
    "Enter 1 for call or -1 for put option: -1\n",
    "The option price is: 11.677477058876157`\n"
   ]
  },
  {
   "cell_type": "code",
   "execution_count": 15,
   "metadata": {},
   "outputs": [
    {
     "name": "stdout",
     "output_type": "stream",
     "text": [
      "The option price is: \n",
      "21.193735255280203\n"
     ]
    }
   ],
   "source": [
    "def BlackScholes(S,K,sgm,r,T,callput):\n",
    "    d1 = (np.log(S/K)+(r+(sgm**2)/2)*T)/(sgm*np.sqrt(T))\n",
    "    d2 = d1-sgm*np.sqrt(T)\n",
    "    if callput==1:\n",
    "        return S*norm.cdf(d1) - K*np.exp(-r*T)*norm.cdf(d2)\n",
    "    else:\n",
    "        return K*np.exp(-r*T)*norm.cdf(-d2) - S*norm.cdf(-d1)\n",
    "    \n",
    "stock = float(input('Enter the underlying stock price: '))\n",
    "strike = float(input('Enter the strike price: '))\n",
    "sigma = float(input('Enter the volatility: '))\n",
    "interest = float(input('Enter continuously compounded interest rate: '))\n",
    "maturity = float(input('Enter the time to maturity: '))\n",
    "callput = int(input('Enter 1 for call or -1 for put option: '))\n",
    "print('The option price is: ')\n",
    "print(BlackScholes(stock,strike,sigma,interest,maturity,callput))"
   ]
  },
  {
   "cell_type": "markdown",
   "metadata": {},
   "source": [
    "# Implied volatility\n",
    "\n",
    "To calculate the price of a European option, we need to know whether it is a call or a put, the strike $K$, and its time to expiry - these are properties specified in the option contract. Furthermore, we need to know the current price of the underlying asset $(S)$ and the interest rate $r$ - these are things which can arguably be observed in the market. Lastly, we need the volatility $\\sigma$ - this is not directly observable in the market. Although it can be statistically estimated, when prices for actively traded options are available in the market, the preferred method to obtain sigma is to **imply** it from those market prices. This is the <B><I>implied volatility</I></B>, i.e. the $\\sigma$ which needs to be inserted into the Black/Scholes formula so that, in combination with the observed values for the other input variables, it returns the observed market price of the option.\n",
    "\n",
    "Implied volatility cannot be obtained by algebraically solving the Black/Scholes formula for volatility - this is not analytically possible. Therefore, Black/Scholes implied volatility must be obtained numerically using a _root search._ The SciPy package provides a root search routine for Python, which for a user-defined function finds the function argument which results in a zero function value. For example, consider the function\n",
    "\n",
    "$$\n",
    "f(x)=ax+b\n",
    "$$\n",
    "\n",
    "We define this as a Python function and determine its root (for a specific choice of $a$ and $b$) by calling the SciPy function `root_scalar`:\n"
   ]
  },
  {
   "cell_type": "code",
   "execution_count": 17,
   "metadata": {},
   "outputs": [
    {
     "name": "stdout",
     "output_type": "stream",
     "text": [
      "2.5\n"
     ]
    }
   ],
   "source": [
    "from scipy import optimize\n",
    "def f(x,a,b):\n",
    "    return a*x+b\n",
    "sol = optimize.root_scalar(f, bracket=[-1000,1000], args=(2,-5))\n",
    "print(sol.root)"
   ]
  },
  {
   "cell_type": "markdown",
   "metadata": {},
   "source": [
    "Note that as well as $f$, two named arguments are passed to `root_scalar`: `bracket` specifies a lower and upper bound in the search for the root, and `args` specifies the other arguments ($a$ and $b$) of $f$. Feel free to run and play with the above code (for example by modifying `args`, or even the function $f$).\n",
    "\n",
    "## Task\n",
    "\n",
    "Using the scaffold provided, write a Python function which calculates the Black/Scholes implied volatility of an option, where the function takes six arguments (in this order): $S$, $K$, $r$, $T$, a 1 for a call or -1 for a put, and the option price. Note that you will need to define additional functions in order to conduct the root search.\n",
    "\n",
    "### Example output\n",
    "\n",
    "`Enter the underlying stock price: 100 \n",
    "Enter the strike price: 100 \n",
    "Enter continuously compounded interest rate: 0.05 \n",
    "Enter the time to maturity: 2 \n",
    "Enter 1 for call or -1 for put option: 1 \n",
    "Enter the option price: 22.7251160722058 \n",
    "The implied volatility is: 0.3300000000000001`\n"
   ]
  },
  {
   "cell_type": "code",
   "execution_count": 19,
   "metadata": {},
   "outputs": [
    {
     "name": "stdout",
     "output_type": "stream",
     "text": [
      "The implied volatility is: \n",
      "0.32999999999999985\n"
     ]
    }
   ],
   "source": [
    "def BlackScholesImpVol(S,K,r,T,callput,price):\n",
    "    def Vol_Searcher(sgm, S,K,r,T,callput,price):\n",
    "        return price - BlackScholes(S,K,sgm,r,T,callput)\n",
    "    return optimize.root_scalar(Vol_Searcher, bracket=[-1000,1000], args=(S,K,r,T,callput,price)).root\n",
    "\n",
    "stock = float(input('Enter the underlying stock price: '))\n",
    "strike = float(input('Enter the strike price: '))\n",
    "interest = float(input('Enter continuously compounded interest rate: '))\n",
    "maturity = float(input('Enter the time to maturity: '))\n",
    "callput = int(input('Enter 1 for call or -1 for put option: '))\n",
    "price = float(input('Enter the option price: '))\n",
    "print('The implied volatility is: ')\n",
    "print(BlackScholesImpVol(stock,strike,interest,maturity,callput,price))"
   ]
  },
  {
   "cell_type": "markdown",
   "metadata": {},
   "source": [
    "# Plotting an implied volatility smile from option price data\n",
    "\n",
    "Consider the data in the file `TSLA.xlsx`, which contains data on options on Tesla, Inc. (TSLA) traded on CBOE on 8 March 2023. The price of TSLA on that day was USD 182.00. The options are American style, but TSLA isn't paying any dividends, so call options can be priced as if they were European.\n",
    "\n",
    "## Task\n",
    "\n",
    "Using the middle of the bid/ask spread, calculate the Black/Scholes implied volatilities of all call options expiring on 15 March 2024, which had a nonzero trading volume on CBOE on 8 March 2023. You may assume that the riskfree rate for this maturity was 5.751038% continuously compounded, using an ACT/365 daycount convention (i.e., the time to maturity in years is given by the number of days between 8 March 2023 and 15 March 2024, divided by 365). Plot these implied volatilities.\n"
   ]
  },
  {
   "cell_type": "code",
   "execution_count": 36,
   "metadata": {},
   "outputs": [
    {
     "name": "stderr",
     "output_type": "stream",
     "text": [
      "C:\\Users\\1tran\\AppData\\Local\\Temp\\ipykernel_3096\\1388625376.py:20: FutureWarning: Setting an item of incompatible dtype is deprecated and will raise an error in a future version of pandas. Value '0.6793394017954807' has dtype incompatible with int64, please explicitly cast to a compatible dtype first.\n",
      "  vol_implied.iloc[i,1] = BlackScholesImpVol(S,new_df.iloc[i, 8],r,dt,1,np.average([new_df.iloc[i, 4], new_df.iloc[i, 5]]))\n"
     ]
    },
    {
     "data": {
      "image/png": "[encoded data removed]",
      "text/plain": [
       "<Figure size 640x480 with 1 Axes>"
      ]
     },
     "metadata": {},
     "output_type": "display_data"
    }
   ],
   "source": [
    "import pandas as pd\n",
    "import datetime\n",
    "import matplotlib.pyplot as plt\n",
    "\n",
    "df = pd.read_excel('TSLA.xlsx')\n",
    "df['Expiration Date'] = pd.to_datetime(df['Expiration Date'], format='%a %b %d %Y')\n",
    "S = 182\n",
    "r = 0.05751038\n",
    "T = datetime.date(2024,3,15)\n",
    "t = datetime.date(2023,3,8)\n",
    "dt = (T-t).days/365\n",
    "new_df = df[df['Expiration Date'].dt.date==T].reset_index(drop=True)\n",
    "new_df = new_df[new_df['Volume']!=0].reset_index(drop=True)\n",
    "vol_implied = pd.DataFrame({\n",
    "    \"Option ID\": new_df['Calls'],\n",
    "    \"Volatilities\": [0]*len(new_df),\n",
    "    \"Strike\": new_df['Strike']\n",
    "})\n",
    "for i in range(len(vol_implied)):\n",
    "    vol_implied.iloc[i,1] = BlackScholesImpVol(S,new_df.iloc[i, 8],r,dt,1,np.average([new_df.iloc[i, 4], new_df.iloc[i, 5]]))\n",
    "vol_implied.sort_values(by=\"Strike\", ascending=True, inplace=True)\n",
    "plt.plot(list(new_df['Strike']), list(vol_implied['Volatilities']))\n",
    "plt.show()"
   ]
  },
  {
   "cell_type": "markdown",
   "metadata": {},
   "source": [
    "# Binomial option pricing model - American put option\n",
    "\n",
    "Using the scaffold provided, write a Python function `BinomialAmericanPut()` which calculates the price of an American put option in the binomial model. The function should take six arguments (in this order): $S$, $K$, $u$, $d$, $R$, $n$, where $S$ is the initial stock price, $K$ is the strike price, $u$ is the \"up\" factor, $d$ is the \"down\" factor, $R$ is the accummulation factor, and $n$ is the number of time steps until expiry of the option. The price must be calculated by iterating step by step backwards through the binomial lattice, as illustrated in the spreadsheet `Binomial.xlsx` created in the lecture (and available on the Canvas site).\n",
    "\n",
    "## Example:\n",
    "\n",
    "This example corresponds to the one given on Slide 42 of Lecture 1b:\n",
    "\n",
    "`Enter the underlying stock price: 120\n",
    "Enter the strike price: 95\n",
    "Enter the up factor: 1.2\n",
    "Enter the down factor: 0.8\n",
    "Enter the accumulation factor: 1.1\n",
    "Enter the number of time steps: 3\n",
    "The option price is: 1.1401202103681396`\n"
   ]
  },
  {
   "cell_type": "code",
   "execution_count": 61,
   "metadata": {},
   "outputs": [
    {
     "name": "stdout",
     "output_type": "stream",
     "text": [
      "The option price is: \n",
      "1.1401202103681385\n"
     ]
    }
   ],
   "source": [
    "def BinomialAmericanPut(S, K, u, d, R, N):\n",
    "    p_u = (R-d)/(u-d)\n",
    "    p_d = 1 - p_u\n",
    "    prices = [[max([K-S,0])]]\n",
    "    for i in range(1,N+1):\n",
    "        temp_price = []\n",
    "        for j in range(i+1):\n",
    "            temp_price.append(max([K-S*(u**(i-j))*(d**(j)),0]))\n",
    "        prices.append(temp_price)\n",
    "    for i in range(N,0,-1):\n",
    "        for j in range(len(prices[i-1])):\n",
    "            prices[i-1][j]=max([prices[i-1][j],(p_u*prices[i][j]+p_d*prices[i][j+1])/R])\n",
    "    return prices[0][0]\n",
    "    \n",
    "\n",
    "stock = float(input('Enter the underlying stock price: '))\n",
    "strike = float(input('Enter the strike price: '))\n",
    "u = float(input('Enter the up factor: '))\n",
    "d = float(input('Enter the down factor: '))\n",
    "R = float(input('Enter the accumulation factor: '))\n",
    "N = int(input('Enter the number of time steps: '))\n",
    "print('The option price is: ')\n",
    "print(BinomialAmericanPut(stock,strike,u,d,R,N))"
   ]
  }
 ],
 "metadata": {
  "kernelspec": {
   "display_name": "venv",
   "language": "python",
   "name": "python3"
  },
  "language_info": {
   "codemirror_mode": {
    "name": "ipython",
    "version": 3
   },
   "file_extension": ".py",
   "mimetype": "text/x-python",
   "name": "python",
   "nbconvert_exporter": "python",
   "pygments_lexer": "ipython3",
   "version": "3.12.3"
  }
 },
 "nbformat": 4,
 "nbformat_minor": 2
}
